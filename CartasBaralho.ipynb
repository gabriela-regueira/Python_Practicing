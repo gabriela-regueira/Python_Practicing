{
  "nbformat": 4,
  "nbformat_minor": 0,
  "metadata": {
    "colab": {
      "name": "CartasBaralho.ipynb",
      "provenance": [],
      "collapsed_sections": [],
      "authorship_tag": "ABX9TyOHMb+1ZKyYqbEUP+/BMJHR",
      "include_colab_link": true
    },
    "kernelspec": {
      "name": "python3",
      "display_name": "Python 3"
    }
  },
  "cells": [
    {
      "cell_type": "markdown",
      "metadata": {
        "id": "view-in-github",
        "colab_type": "text"
      },
      "source": [
        "<a href=\"https://colab.research.google.com/github/gabriela-regueira/Python_Practicing/blob/main/CartasBaralho.ipynb\" target=\"_parent\"><img src=\"https://colab.research.google.com/assets/colab-badge.svg\" alt=\"Open In Colab\"/></a>"
      ]
    },
    {
      "cell_type": "markdown",
      "metadata": {
        "id": "tNxgjY4m2MOT"
      },
      "source": [
        "# Estatística Descritiva com Cartas de Baralho\n",
        "\n",
        "**Contexto:**\n",
        "\n",
        "Considere um baralho comum, ou seja, um conjunto de **52 cartas**, divididas em **4 naipes** (espadas (♠), copas (♥), ouros (♦) e paus (♣)). Cada naipe possui 13 cartas (às, os números de 2 a 10, valete, dama e rei).\n",
        "\n",
        "Para cada carta, atribuiremos uma **pontuação**, onde as cartas numeradas recebem pontuação igual ao número de cada uma delas. Às vale 1. Valete, Dama e Rei valem 10 cada.\n",
        "\n",
        "Vamos embaralhar as cartas e retirar 3 delas. Anotando a soma da pontuação obtida. Em seguida, colocamos as cartas de volta ao deck e repetimos o procedimento 30 vezes.\n",
        "\n",
        "Temos então um conjunto de 30 amostras aleatórias, com n=3.\n"
      ]
    },
    {
      "cell_type": "code",
      "metadata": {
        "id": "x_79XLSwS5o3"
      },
      "source": [
        "import numpy as np\n",
        "import pandas as pd\n",
        "import matplotlib.pyplot as plt\n",
        "import seaborn as sns\n",
        "%matplotlib inline"
      ],
      "execution_count": 72,
      "outputs": []
    },
    {
      "cell_type": "code",
      "metadata": {
        "id": "eAWmJKajTVgG"
      },
      "source": [
        "baralho = pd.Series({'às':1,'dois':2,'três':3,'quatro':4,'cinco':5,'seis':6,'sete':7,'oito':8,'nove':9,'dez':10,'valete':10,'dama':10,'rei':10},name='Pontuação')\n",
        "pontuacao=pd.DataFrame(data=baralho)\n",
        "\n",
        "amostras = []\n",
        "soma_amostras=[]\n",
        "media_amostras=[]\n",
        "count=0\n",
        "while count<30:\n",
        "    a = baralho.sample(n=3)\n",
        "    soma = a.values.sum()\n",
        "    media = a.values.mean()\n",
        "    amostras.append(a)\n",
        "    soma_amostras.append(soma)\n",
        "    media_amostras.append(media)\n",
        "    count += 1"
      ],
      "execution_count": 73,
      "outputs": []
    },
    {
      "cell_type": "markdown",
      "metadata": {
        "id": "Yd3roMk8S4J_"
      },
      "source": [
        "\n",
        "**Explorando os dados:**\n",
        "\n",
        "1.\tPrimeiro, vamos plotar um histograma que mostra a **frequência relativa** do valor de cada carta do baralho. \n",
        "\n"
      ]
    },
    {
      "cell_type": "code",
      "metadata": {
        "colab": {
          "base_uri": "https://localhost:8080/",
          "height": 432
        },
        "id": "Uu5LZN-WUk2q",
        "outputId": "0d67427c-ad1c-4f68-aa1d-090e11dd01f2"
      },
      "source": [
        "pontuacao"
      ],
      "execution_count": 74,
      "outputs": [
        {
          "output_type": "execute_result",
          "data": {
            "text/html": [
              "<div>\n",
              "<style scoped>\n",
              "    .dataframe tbody tr th:only-of-type {\n",
              "        vertical-align: middle;\n",
              "    }\n",
              "\n",
              "    .dataframe tbody tr th {\n",
              "        vertical-align: top;\n",
              "    }\n",
              "\n",
              "    .dataframe thead th {\n",
              "        text-align: right;\n",
              "    }\n",
              "</style>\n",
              "<table border=\"1\" class=\"dataframe\">\n",
              "  <thead>\n",
              "    <tr style=\"text-align: right;\">\n",
              "      <th></th>\n",
              "      <th>Pontuação</th>\n",
              "    </tr>\n",
              "  </thead>\n",
              "  <tbody>\n",
              "    <tr>\n",
              "      <th>às</th>\n",
              "      <td>1</td>\n",
              "    </tr>\n",
              "    <tr>\n",
              "      <th>dois</th>\n",
              "      <td>2</td>\n",
              "    </tr>\n",
              "    <tr>\n",
              "      <th>três</th>\n",
              "      <td>3</td>\n",
              "    </tr>\n",
              "    <tr>\n",
              "      <th>quatro</th>\n",
              "      <td>4</td>\n",
              "    </tr>\n",
              "    <tr>\n",
              "      <th>cinco</th>\n",
              "      <td>5</td>\n",
              "    </tr>\n",
              "    <tr>\n",
              "      <th>seis</th>\n",
              "      <td>6</td>\n",
              "    </tr>\n",
              "    <tr>\n",
              "      <th>sete</th>\n",
              "      <td>7</td>\n",
              "    </tr>\n",
              "    <tr>\n",
              "      <th>oito</th>\n",
              "      <td>8</td>\n",
              "    </tr>\n",
              "    <tr>\n",
              "      <th>nove</th>\n",
              "      <td>9</td>\n",
              "    </tr>\n",
              "    <tr>\n",
              "      <th>dez</th>\n",
              "      <td>10</td>\n",
              "    </tr>\n",
              "    <tr>\n",
              "      <th>valete</th>\n",
              "      <td>10</td>\n",
              "    </tr>\n",
              "    <tr>\n",
              "      <th>dama</th>\n",
              "      <td>10</td>\n",
              "    </tr>\n",
              "    <tr>\n",
              "      <th>rei</th>\n",
              "      <td>10</td>\n",
              "    </tr>\n",
              "  </tbody>\n",
              "</table>\n",
              "</div>"
            ],
            "text/plain": [
              "        Pontuação\n",
              "às              1\n",
              "dois            2\n",
              "três            3\n",
              "quatro          4\n",
              "cinco           5\n",
              "seis            6\n",
              "sete            7\n",
              "oito            8\n",
              "nove            9\n",
              "dez            10\n",
              "valete         10\n",
              "dama           10\n",
              "rei            10"
            ]
          },
          "metadata": {
            "tags": []
          },
          "execution_count": 74
        }
      ]
    },
    {
      "cell_type": "code",
      "metadata": {
        "colab": {
          "base_uri": "https://localhost:8080/",
          "height": 350
        },
        "id": "iH2bg36RUrO1",
        "outputId": "f192ca7a-eb7b-4eec-e1ce-7692122900c0"
      },
      "source": [
        "sns.distplot(pontuacao, bins=5)\n",
        "plt.xlabel('pontuação por carta')\n",
        "plt.ylabel('frequência relativa')"
      ],
      "execution_count": 75,
      "outputs": [
        {
          "output_type": "stream",
          "text": [
            "/usr/local/lib/python3.6/dist-packages/seaborn/distributions.py:2551: FutureWarning: `distplot` is a deprecated function and will be removed in a future version. Please adapt your code to use either `displot` (a figure-level function with similar flexibility) or `histplot` (an axes-level function for histograms).\n",
            "  warnings.warn(msg, FutureWarning)\n"
          ],
          "name": "stderr"
        },
        {
          "output_type": "execute_result",
          "data": {
            "text/plain": [
              "Text(0, 0.5, 'frequência relativa')"
            ]
          },
          "metadata": {
            "tags": []
          },
          "execution_count": 75
        },
        {
          "output_type": "display_data",
          "data": {
            "image/png": "[encoded data removed]",
            "text/plain": [
              "<Figure size 432x288 with 1 Axes>"
            ]
          },
          "metadata": {
            "tags": [],
            "needs_background": "light"
          }
        }
      ]
    },
    {
      "cell_type": "markdown",
      "metadata": {
        "id": "AtMRNT31UbXd"
      },
      "source": [
        "Vemos uma distribuição quase uniforme, com exceção da pontuação 10 que se repete para 3 tipos diferentes de cartas.\n",
        "\n",
        "Outras métricas descritivas:\n",
        "\n",
        "\n"
      ]
    },
    {
      "cell_type": "code",
      "metadata": {
        "colab": {
          "base_uri": "https://localhost:8080/",
          "height": 284
        },
        "id": "TOzqv6DoeMJT",
        "outputId": "87cb3f18-b588-4e2a-9dae-17cf504885c2"
      },
      "source": [
        "pontuacao.describe()"
      ],
      "execution_count": 76,
      "outputs": [
        {
          "output_type": "execute_result",
          "data": {
            "text/html": [
              "<div>\n",
              "<style scoped>\n",
              "    .dataframe tbody tr th:only-of-type {\n",
              "        vertical-align: middle;\n",
              "    }\n",
              "\n",
              "    .dataframe tbody tr th {\n",
              "        vertical-align: top;\n",
              "    }\n",
              "\n",
              "    .dataframe thead th {\n",
              "        text-align: right;\n",
              "    }\n",
              "</style>\n",
              "<table border=\"1\" class=\"dataframe\">\n",
              "  <thead>\n",
              "    <tr style=\"text-align: right;\">\n",
              "      <th></th>\n",
              "      <th>Pontuação</th>\n",
              "    </tr>\n",
              "  </thead>\n",
              "  <tbody>\n",
              "    <tr>\n",
              "      <th>count</th>\n",
              "      <td>13.000000</td>\n",
              "    </tr>\n",
              "    <tr>\n",
              "      <th>mean</th>\n",
              "      <td>6.538462</td>\n",
              "    </tr>\n",
              "    <tr>\n",
              "      <th>std</th>\n",
              "      <td>3.281651</td>\n",
              "    </tr>\n",
              "    <tr>\n",
              "      <th>min</th>\n",
              "      <td>1.000000</td>\n",
              "    </tr>\n",
              "    <tr>\n",
              "      <th>25%</th>\n",
              "      <td>4.000000</td>\n",
              "    </tr>\n",
              "    <tr>\n",
              "      <th>50%</th>\n",
              "      <td>7.000000</td>\n",
              "    </tr>\n",
              "    <tr>\n",
              "      <th>75%</th>\n",
              "      <td>10.000000</td>\n",
              "    </tr>\n",
              "    <tr>\n",
              "      <th>max</th>\n",
              "      <td>10.000000</td>\n",
              "    </tr>\n",
              "  </tbody>\n",
              "</table>\n",
              "</div>"
            ],
            "text/plain": [
              "       Pontuação\n",
              "count  13.000000\n",
              "mean    6.538462\n",
              "std     3.281651\n",
              "min     1.000000\n",
              "25%     4.000000\n",
              "50%     7.000000\n",
              "75%    10.000000\n",
              "max    10.000000"
            ]
          },
          "metadata": {
            "tags": []
          },
          "execution_count": 76
        }
      ]
    },
    {
      "cell_type": "markdown",
      "metadata": {
        "id": "d094OopheNQ8"
      },
      "source": [
        "2. Plotando a distribuição das cartas obtidas das amostras:"
      ]
    },
    {
      "cell_type": "code",
      "metadata": {
        "colab": {
          "base_uri": "https://localhost:8080/",
          "height": 335
        },
        "id": "tO0ByXZPXoaW",
        "outputId": "8af4ae3c-51c0-4c91-93b1-63c504c796ed"
      },
      "source": [
        "sns.distplot(amostras, bins=5)"
      ],
      "execution_count": 77,
      "outputs": [
        {
          "output_type": "stream",
          "text": [
            "/usr/local/lib/python3.6/dist-packages/seaborn/distributions.py:2551: FutureWarning: `distplot` is a deprecated function and will be removed in a future version. Please adapt your code to use either `displot` (a figure-level function with similar flexibility) or `histplot` (an axes-level function for histograms).\n",
            "  warnings.warn(msg, FutureWarning)\n"
          ],
          "name": "stderr"
        },
        {
          "output_type": "execute_result",
          "data": {
            "text/plain": [
              "<matplotlib.axes._subplots.AxesSubplot at 0x7fa0c7ba5d68>"
            ]
          },
          "metadata": {
            "tags": []
          },
          "execution_count": 77
        },
        {
          "output_type": "display_data",
          "data": {
            "image/png": "[encoded data removed]",
            "text/plain": [
              "<Figure size 432x288 with 1 Axes>"
            ]
          },
          "metadata": {
            "tags": [],
            "needs_background": "light"
          }
        }
      ]
    },
    {
      "cell_type": "markdown",
      "metadata": {
        "id": "49kK33EfV_kw"
      },
      "source": [
        "Temos uma distribuição também assimétrica negativa. Ou seja, foram retiradas mais cartas com pontuação 10, do que as demais. Esse comportamento já era esperado, visto que temos mais cartas neste valor, a probabilidade de encontra-las nas amostras seria maior.\n",
        "\n",
        "3.Plotando a distribuição da soma das cartas temos:\n"
      ]
    },
    {
      "cell_type": "code",
      "metadata": {
        "colab": {
          "base_uri": "https://localhost:8080/",
          "height": 335
        },
        "id": "Pb_a3P-KdY5c",
        "outputId": "400ab3f8-0a42-45db-a89e-c53a50ab2e07"
      },
      "source": [
        "sns.distplot(soma_amostras, bins=5)"
      ],
      "execution_count": 78,
      "outputs": [
        {
          "output_type": "stream",
          "text": [
            "/usr/local/lib/python3.6/dist-packages/seaborn/distributions.py:2551: FutureWarning: `distplot` is a deprecated function and will be removed in a future version. Please adapt your code to use either `displot` (a figure-level function with similar flexibility) or `histplot` (an axes-level function for histograms).\n",
            "  warnings.warn(msg, FutureWarning)\n"
          ],
          "name": "stderr"
        },
        {
          "output_type": "execute_result",
          "data": {
            "text/plain": [
              "<matplotlib.axes._subplots.AxesSubplot at 0x7fa0c7b96b00>"
            ]
          },
          "metadata": {
            "tags": []
          },
          "execution_count": 78
        },
        {
          "output_type": "display_data",
          "data": {
            "image/png": "[encoded data removed]",
            "text/plain": [
              "<Figure size 432x288 with 1 Axes>"
            ]
          },
          "metadata": {
            "tags": [],
            "needs_background": "light"
          }
        }
      ]
    },
    {
      "cell_type": "code",
      "metadata": {
        "colab": {
          "base_uri": "https://localhost:8080/",
          "height": 284
        },
        "id": "wr20P0GXe7nB",
        "outputId": "9481b35a-399f-4075-e769-7ad26a4c6bab"
      },
      "source": [
        "soma_df=pd.DataFrame(soma_amostras)\n",
        "soma_df.describe()"
      ],
      "execution_count": 79,
      "outputs": [
        {
          "output_type": "execute_result",
          "data": {
            "text/html": [
              "<div>\n",
              "<style scoped>\n",
              "    .dataframe tbody tr th:only-of-type {\n",
              "        vertical-align: middle;\n",
              "    }\n",
              "\n",
              "    .dataframe tbody tr th {\n",
              "        vertical-align: top;\n",
              "    }\n",
              "\n",
              "    .dataframe thead th {\n",
              "        text-align: right;\n",
              "    }\n",
              "</style>\n",
              "<table border=\"1\" class=\"dataframe\">\n",
              "  <thead>\n",
              "    <tr style=\"text-align: right;\">\n",
              "      <th></th>\n",
              "      <th>0</th>\n",
              "    </tr>\n",
              "  </thead>\n",
              "  <tbody>\n",
              "    <tr>\n",
              "      <th>count</th>\n",
              "      <td>30.000000</td>\n",
              "    </tr>\n",
              "    <tr>\n",
              "      <th>mean</th>\n",
              "      <td>19.966667</td>\n",
              "    </tr>\n",
              "    <tr>\n",
              "      <th>std</th>\n",
              "      <td>6.065637</td>\n",
              "    </tr>\n",
              "    <tr>\n",
              "      <th>min</th>\n",
              "      <td>8.000000</td>\n",
              "    </tr>\n",
              "    <tr>\n",
              "      <th>25%</th>\n",
              "      <td>17.000000</td>\n",
              "    </tr>\n",
              "    <tr>\n",
              "      <th>50%</th>\n",
              "      <td>21.000000</td>\n",
              "    </tr>\n",
              "    <tr>\n",
              "      <th>75%</th>\n",
              "      <td>25.000000</td>\n",
              "    </tr>\n",
              "    <tr>\n",
              "      <th>max</th>\n",
              "      <td>28.000000</td>\n",
              "    </tr>\n",
              "  </tbody>\n",
              "</table>\n",
              "</div>"
            ],
            "text/plain": [
              "               0\n",
              "count  30.000000\n",
              "mean   19.966667\n",
              "std     6.065637\n",
              "min     8.000000\n",
              "25%    17.000000\n",
              "50%    21.000000\n",
              "75%    25.000000\n",
              "max    28.000000"
            ]
          },
          "metadata": {
            "tags": []
          },
          "execution_count": 79
        }
      ]
    },
    {
      "cell_type": "markdown",
      "metadata": {
        "id": "B6WNPDCTd-r0"
      },
      "source": [
        "Temos uma distribuição da soma das amostras mais próxima de uma Distribuição Normal.\n",
        "\n",
        "**Qual a probabilidade da amostra resultar num número acima de 20?**\n",
        "\n",
        "Escolhendo o ponto 20, e calculando seu z-score, temos:\n"
      ]
    },
    {
      "cell_type": "code",
      "metadata": {
        "colab": {
          "base_uri": "https://localhost:8080/"
        },
        "id": "yLg9EjA1khS8",
        "outputId": "69fb383d-a417-4c24-891e-fbc042786246"
      },
      "source": [
        "z_score = (20-19.966667)/6.065637\n",
        "z_score"
      ],
      "execution_count": 85,
      "outputs": [
        {
          "output_type": "execute_result",
          "data": {
            "text/plain": [
              "0.005495383254883032"
            ]
          },
          "metadata": {
            "tags": []
          },
          "execution_count": 85
        }
      ]
    },
    {
      "cell_type": "markdown",
      "metadata": {
        "id": "4RZxvt03lYQl"
      },
      "source": [
        "De acordo com a Tabela Z, a probabilidade de se escolher o número 20 ou menor é de 51,99%. Portanto, para resultar num número ACIMA de 20, temos: \n",
        "100-51,99 = **48,01%**\n",
        "\n",
        "Dentro de qual intervalo espera-se que 90% dos dados resultem?\n",
        "\n",
        "Sabemos que 95% dos dados estão entre média-2sigma e média+2sigma. Ou seja, entre 2 desvios padrão para mais e para menos da média.\n",
        "\n",
        "Para chegarmos em 90%, temos que 5% dos dados estarão em cada ponta da distribuição. Com isso, o intervalo de 90% estará entre um z-score de 95% e 5%;\n",
        "- z-score(5%) = -1,65\n",
        "- z-score(95%) = 1,65\n",
        "\n",
        "z-score = (x - média)/desvio padrão\n",
        "\n",
        "x = (z*desvio) + média"
      ]
    },
    {
      "cell_type": "code",
      "metadata": {
        "colab": {
          "base_uri": "https://localhost:8080/"
        },
        "id": "oDSgzS6ZoJd2",
        "outputId": "a64ba85f-df1a-44ca-ea14-b05d7619315d"
      },
      "source": [
        "x1 = (-1.65*6.065637)+19.966667\n",
        "x2 = (1.65*6.065637)+19.966667\n",
        "\n",
        "print('Espera-se que 90% dos dados estejam entre', x1, 'e', x2)"
      ],
      "execution_count": 91,
      "outputs": [
        {
          "output_type": "stream",
          "text": [
            "Espera-se que 90% dos dados estejam entre 9.958365950000003 e 29.97496805\n"
          ],
          "name": "stdout"
        }
      ]
    },
    {
      "cell_type": "markdown",
      "metadata": {
        "id": "lJChpNc4los0"
      },
      "source": [
        "**Provando o Teorema do Limite Central**"
      ]
    },
    {
      "cell_type": "markdown",
      "metadata": {
        "id": "hS1NfSiwlt5y"
      },
      "source": [
        "Vamos plotar a distribuição das médias das amostras"
      ]
    },
    {
      "cell_type": "code",
      "metadata": {
        "colab": {
          "base_uri": "https://localhost:8080/",
          "height": 335
        },
        "id": "e4yqz90vdzmg",
        "outputId": "3ab93e28-36ff-4857-8bb3-28d2bc7bb9e7"
      },
      "source": [
        "sns.distplot(media_amostras, bins=5)"
      ],
      "execution_count": 80,
      "outputs": [
        {
          "output_type": "stream",
          "text": [
            "/usr/local/lib/python3.6/dist-packages/seaborn/distributions.py:2551: FutureWarning: `distplot` is a deprecated function and will be removed in a future version. Please adapt your code to use either `displot` (a figure-level function with similar flexibility) or `histplot` (an axes-level function for histograms).\n",
            "  warnings.warn(msg, FutureWarning)\n"
          ],
          "name": "stderr"
        },
        {
          "output_type": "execute_result",
          "data": {
            "text/plain": [
              "<matplotlib.axes._subplots.AxesSubplot at 0x7fa0c7aeaf28>"
            ]
          },
          "metadata": {
            "tags": []
          },
          "execution_count": 80
        },
        {
          "output_type": "display_data",
          "data": {
            "image/png": "[encoded data removed]",
            "text/plain": [
              "<Figure size 432x288 with 1 Axes>"
            ]
          },
          "metadata": {
            "tags": [],
            "needs_background": "light"
          }
        }
      ]
    },
    {
      "cell_type": "code",
      "metadata": {
        "colab": {
          "base_uri": "https://localhost:8080/",
          "height": 284
        },
        "id": "84iSXwOXf3zS",
        "outputId": "babbbd8f-14ce-407d-b959-bca29fe42086"
      },
      "source": [
        "indice = np.arange(1,31)\n",
        "media_df=pd.DataFrame(media_amostras, index=indice)\n",
        "media_df.describe()"
      ],
      "execution_count": 81,
      "outputs": [
        {
          "output_type": "execute_result",
          "data": {
            "text/html": [
              "<div>\n",
              "<style scoped>\n",
              "    .dataframe tbody tr th:only-of-type {\n",
              "        vertical-align: middle;\n",
              "    }\n",
              "\n",
              "    .dataframe tbody tr th {\n",
              "        vertical-align: top;\n",
              "    }\n",
              "\n",
              "    .dataframe thead th {\n",
              "        text-align: right;\n",
              "    }\n",
              "</style>\n",
              "<table border=\"1\" class=\"dataframe\">\n",
              "  <thead>\n",
              "    <tr style=\"text-align: right;\">\n",
              "      <th></th>\n",
              "      <th>0</th>\n",
              "    </tr>\n",
              "  </thead>\n",
              "  <tbody>\n",
              "    <tr>\n",
              "      <th>count</th>\n",
              "      <td>30.000000</td>\n",
              "    </tr>\n",
              "    <tr>\n",
              "      <th>mean</th>\n",
              "      <td>6.655556</td>\n",
              "    </tr>\n",
              "    <tr>\n",
              "      <th>std</th>\n",
              "      <td>2.021879</td>\n",
              "    </tr>\n",
              "    <tr>\n",
              "      <th>min</th>\n",
              "      <td>2.666667</td>\n",
              "    </tr>\n",
              "    <tr>\n",
              "      <th>25%</th>\n",
              "      <td>5.666667</td>\n",
              "    </tr>\n",
              "    <tr>\n",
              "      <th>50%</th>\n",
              "      <td>7.000000</td>\n",
              "    </tr>\n",
              "    <tr>\n",
              "      <th>75%</th>\n",
              "      <td>8.333333</td>\n",
              "    </tr>\n",
              "    <tr>\n",
              "      <th>max</th>\n",
              "      <td>9.333333</td>\n",
              "    </tr>\n",
              "  </tbody>\n",
              "</table>\n",
              "</div>"
            ],
            "text/plain": [
              "               0\n",
              "count  30.000000\n",
              "mean    6.655556\n",
              "std     2.021879\n",
              "min     2.666667\n",
              "25%     5.666667\n",
              "50%     7.000000\n",
              "75%     8.333333\n",
              "max     9.333333"
            ]
          },
          "metadata": {
            "tags": []
          },
          "execution_count": 81
        }
      ]
    },
    {
      "cell_type": "markdown",
      "metadata": {
        "id": "FeaLKiDodZKd"
      },
      "source": [
        "Notamos que:\n",
        "\n",
        "1.   A distribuição das médias das amostras é próxima de uma Distribuição Normal\n",
        "2.   A média da distribuição das médias é muito próxima da média da população (6,65 x 6,53)\n",
        "3. O desvio da média das amostras é igual ao desvio padrão da população dividido pela raíz de n.\n",
        "\n"
      ]
    },
    {
      "cell_type": "code",
      "metadata": {
        "colab": {
          "base_uri": "https://localhost:8080/"
        },
        "id": "NSAVp6gkrdcB",
        "outputId": "d02204a6-11d0-46c8-fc04-cdb9568c5fd8"
      },
      "source": [
        "std_medias = 3.281651/np.sqrt(3)\n",
        "std_medias"
      ],
      "execution_count": 97,
      "outputs": [
        {
          "output_type": "execute_result",
          "data": {
            "text/plain": [
              "1.8946620882364047"
            ]
          },
          "metadata": {
            "tags": []
          },
          "execution_count": 97
        }
      ]
    }
  ]
}